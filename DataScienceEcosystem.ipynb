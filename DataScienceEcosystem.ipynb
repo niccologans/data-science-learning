{
  "metadata": {
    "kernelspec": {
      "name": "python",
      "display_name": "Python (Pyodide)",
      "language": "python"
    },
    "language_info": {
      "codemirror_mode": {
        "name": "python",
        "version": 3
      },
      "file_extension": ".py",
      "mimetype": "text/x-python",
      "name": "python",
      "nbconvert_exporter": "python",
      "pygments_lexer": "ipython3",
      "version": "3.8"
    }
  },
  "nbformat_minor": 5,
  "nbformat": 4,
  "cells": [
    {
      "id": "11205bdc-3af5-42f6-915f-a508cb1080af",
      "cell_type": "markdown",
      "source": "# Data Science Tools and Ecosystem",
      "metadata": {}
    },
    {
      "id": "ec52dd5c-7347-4d98-96c3-349bbd51cee9",
      "cell_type": "markdown",
      "source": "## Author\nNiccolo A. Gans",
      "metadata": {}
    },
    {
      "id": "4e1f7840-7e1a-4d78-9014-c13b57365b5b",
      "cell_type": "markdown",
      "source": "In this notebook, Data Science Tools and Ecosystem are summarized.",
      "metadata": {}
    },
    {
      "id": "5a298282-6e56-4f32-9617-016a500fef06",
      "cell_type": "markdown",
      "source": "*Objectives:*\n* List some popular languages used in Data Science\n* List some common libraries used in Data Science\n* List some tools or environments used in Data Science\n* Evaluate arithmetic expressions using Python",
      "metadata": {}
    },
    {
      "id": "4a0ec183-4b07-473c-bac8-532d837f98ff",
      "cell_type": "markdown",
      "source": "Some of the popular languages that Data Scientists use are:\n1. Python\n2. R\n3. SQL\n4. Scala\n5. Java\n6. C++",
      "metadata": {}
    },
    {
      "id": "23fe2b6f-b592-41f4-84f7-a4e28aa8ea4f",
      "cell_type": "markdown",
      "source": "Some of the commonly used libraries used by Data Scientists include:\n1. Pandas\n2. NumPy\n3. SciPy\n4. Matplotlib\n5. Scikit-learn",
      "metadata": {}
    },
    {
      "id": "e47bb94a-11b5-48b0-8a1b-923fbd3e3fe2",
      "cell_type": "markdown",
      "source": "|Data Science Tools\n|---|\nJupyterLab\nJupyterLite\nMicrosoft Visual Studio\nRStudio\nGoogle Colaboratory",
      "metadata": {}
    },
    {
      "id": "0813e411-2738-4c2b-aef1-a7ef74d647f4",
      "cell_type": "markdown",
      "source": "### Below are a few examples of evaluating arithmetic expressions in Python",
      "metadata": {}
    },
    {
      "id": "81d6d068-572d-4e44-a502-d1690ec885da",
      "cell_type": "code",
      "source": "# This a simple arithmetic expression to mutiply then add integers.\nresult = (3*4)+5\nprint(result)",
      "metadata": {
        "trusted": true
      },
      "outputs": [
        {
          "name": "stdout",
          "output_type": "stream",
          "text": "17\n"
        }
      ],
      "execution_count": 4
    },
    {
      "id": "2293cf05-09c6-4946-b1a1-0669be0f3d45",
      "cell_type": "code",
      "source": "# This will convert 200 minutes to hours by diving by 60\nmins = 200\nhrs = 200 / 6\nprint(\"{0} minutes converted to hours is: {1}\".format(mins, hrs))",
      "metadata": {
        "trusted": true
      },
      "outputs": [
        {
          "name": "stdout",
          "output_type": "stream",
          "text": "200 minutes converted to hours is: 33.333333333333336\n"
        }
      ],
      "execution_count": 7
    }
  ]
}